{
  "cells": [
    {
      "cell_type": "markdown",
      "id": "a3a0c514",
      "metadata": {
        "id": "a3a0c514"
      },
      "source": [
        "En este notebook hay un repaso de lo visto en la clase del Viernes 01/04, y trata sobre la resolución del problema de 2 péndulos acoplados. \n",
        "\n",
        "Empecemos con las ecuaciones de movimiento: \n",
        "$$ \\ddot{\\psi}_a = -\\omega_0^2\\psi_a + \\omega_a^2(\\psi_b-\\psi_a) \\\\\n",
        "\\ddot{\\psi}_b = -\\omega_0^2\\psi_b - \\omega_b^2(\\psi_b-\\psi_a) $$\n",
        "\n",
        "con $\\omega_0^2 = \\frac{g}{l}$, $\\omega_a^2 = \\frac{k}{m_a}$ y $\\omega_b^2 = \\frac{k}{m_b}$.  \n",
        "\n",
        "Estas ecuaciones las podemos reescribir en forma matricial defininendo $\\vec{\\psi} =\\begin{pmatrix}\n",
        " \\psi_a\\\\\n",
        "\\psi_b\n",
        "\\end{pmatrix}$ de la siguiente forma: \n",
        "\n",
        "\\begin{align}\n",
        "\\ddot{\\vec{\\psi}} = -\\boldsymbol{\\Omega}\\vec{\\psi} \n",
        "\\end{align}\n",
        "\n",
        "con $$ \\boldsymbol{\\Omega} = \\begin{pmatrix}\n",
        " \\omega_0^2+\\omega_a^2& -\\omega_a^2 \\\\\n",
        " -\\omega_b^2&  \\omega_0^2+\\omega_b^2\\\\\n",
        "\\end{pmatrix}$$\n",
        "\n",
        "Ahora, vimos en las prácticas hasta ahora 2 caminos para encarar este problema (que en realidad son iguales, pero con diferencias en como se interpretan los diferentes pasos que hay que hacer). "
      ]
    },
    {
      "cell_type": "markdown",
      "id": "4d42fa45",
      "metadata": {
        "id": "4d42fa45"
      },
      "source": [
        "**Primer método**: \n",
        "Propongo una solución del tipo $\\vec{\\psi}(t) = \\begin{pmatrix}A_1\\\\A_2\\end{pmatrix} \\cos(\\omega t)$. Eso lo meto en la ecuació para $\\vec{\\psi}$ y obtengo lo siguiente: \n",
        "\n",
        "$$ \\ddot{\\vec{\\psi}} = -\\omega^2 \\vec{\\psi} ~\\Rightarrow ~ -\\omega^2 \\vec{\\psi} = -\\boldsymbol{\\Omega}\\vec{\\psi} $$\n",
        "\n",
        "Eso es exactamente un problema de autovalores y autovectores. Los autovalores de la matriz $-\\boldsymbol{\\Omega}$ me dan los posibles valores de $-\\omega^2$ (y logicamente, los autovalores de $\\boldsymbol{\\Omega} $ me dan los valores de $ \\omega^2$), mientras que los autovectores me dan la relacion entre los coeficientes $A_1$ y $A_2$.\n",
        "\n",
        "Hagamos eso. Ya que estamos, lo hacemos con una herramienta de Python que se llama \"sympy\". Eso es un paquete de \"calculo simbolico\", lo que significa que nos perimite definir variables (como por ejemplo $\\omega_0$) y operar con ellas, sin necesidad de ponerles un valor numerico. \n",
        "\n",
        "Primero, importamos el paquete \"sympy\", y corremos el comando \"sym.init_printing\" que hace que python imprima las variables de una manera agradabale a la vista. "
      ]
    },
    {
      "cell_type": "code",
      "execution_count": null,
      "id": "93d178e3",
      "metadata": {
        "id": "93d178e3"
      },
      "outputs": [],
      "source": [
        "import sympy as sym\n",
        "sym.init_printing()"
      ]
    },
    {
      "cell_type": "markdown",
      "id": "9ab8411b",
      "metadata": {
        "id": "9ab8411b"
      },
      "source": [
        "Ahora, definimos primero las variables con las que queremos hacer cuentas: en este caso seran $\\omega_0$, $\\omega_a$ y $\\omega_b$. Usamos el comando \"sym.symbols()\". A la izquierda del igual, ponemos la expresion con la que queremos referirnos a las variables, y dentro del parentesis de la funcion symbols() ponemos como queremos que se impriman (usamos latex asi se imprimen mas lindo). \n",
        "\n",
        "Despues, definimos la matriz $\\boldsymbol{\\Omega}$ que llamo \"M\" . Para eso, usamos la funcion syb.Matrix(). Hay que darle la matriz escrita en corchetes, linea por linea. "
      ]
    },
    {
      "cell_type": "code",
      "execution_count": null,
      "id": "40cdd877",
      "metadata": {
        "id": "40cdd877"
      },
      "outputs": [],
      "source": [
        "w0, wa, wb = sym.symbols('\\omega_0 \\omega_a \\omega_b')\n",
        "M = sym.Matrix([[w0**2+wa**2, -wa**2], [-wb**2,w0**2+wb**2]])"
      ]
    },
    {
      "cell_type": "markdown",
      "id": "8f6c644c",
      "metadata": {
        "id": "8f6c644c"
      },
      "source": [
        "Ahora, podemos usar la función eigenvects sobre M, que nos devuelve los distintos autvalores, su multiplicidad y su correspondiente autovector:"
      ]
    },
    {
      "cell_type": "code",
      "execution_count": null,
      "id": "c56bcdc9",
      "metadata": {
        "colab": {
          "base_uri": "https://localhost:8080/",
          "height": 68
        },
        "id": "c56bcdc9",
        "outputId": "e06ec118-d6ca-43a8-ad38-979ca42e425d"
      },
      "outputs": [
        {
          "output_type": "execute_result",
          "data": {
            "text/plain": [
              "⎡                      ⎛                                    ⎡⎡        2 ⎤⎤⎞⎤\n",
              "⎢                      ⎜                                    ⎢⎢-\\omegaₐ  ⎥⎥⎟⎥\n",
              "⎢⎛       2     ⎡⎡1⎤⎤⎞  ⎜       2          2           2     ⎢⎢──────────⎥⎥⎟⎥\n",
              "⎢⎜\\omega₀ , 1, ⎢⎢ ⎥⎥⎟, ⎜\\omega₀  + \\omegaₐ  + \\omega_b , 1, ⎢⎢        2 ⎥⎥⎟⎥\n",
              "⎢⎝             ⎣⎣1⎦⎦⎠  ⎜                                    ⎢⎢\\omega_b  ⎥⎥⎟⎥\n",
              "⎢                      ⎜                                    ⎢⎢          ⎥⎥⎟⎥\n",
              "⎣                      ⎝                                    ⎣⎣    1     ⎦⎦⎠⎦"
            ],
            "text/latex": "$\\displaystyle \\left[ \\left( \\omega_{0}^{2}, \\  1, \\  \\left[ \\left[\\begin{matrix}1\\\\1\\end{matrix}\\right]\\right]\\right), \\  \\left( \\omega_{0}^{2} + \\omega_{a}^{2} + \\omega_{b}^{2}, \\  1, \\  \\left[ \\left[\\begin{matrix}- \\frac{\\omega_{a}^{2}}{\\omega_{b}^{2}}\\\\1\\end{matrix}\\right]\\right]\\right)\\right]$"
          },
          "metadata": {},
          "execution_count": 3
        }
      ],
      "source": [
        "M.eigenvects()"
      ]
    },
    {
      "cell_type": "markdown",
      "id": "459f5dea",
      "metadata": {
        "id": "459f5dea"
      },
      "source": [
        "Osea, un autovalor es $\\omega_0^2$, de multiplicidad 1 y de autovector $\\begin{pmatrix}1\\\\1\\end{pmatrix}$. Esto nos da una solución de la forma $\\vec{\\psi}(t) = \\begin{pmatrix}A_1\\\\A_2\\end{pmatrix} \\cos(\\omega t)$ en donde $A_1 = A_2$ y $\\omega = \\omega_1 = \\omega_0$ asi que una posible solucion es $\\vec{\\psi}(t) = A\\begin{pmatrix}1\\\\1\\end{pmatrix} \\cos(\\omega_0 t)$, y la constante $A$ saldra de las condiciones iniciales. Ademas, la solucion $\\vec{\\psi}(t) = B\\begin{pmatrix}1\\\\1\\end{pmatrix} \\sin(\\omega_0 t)$ tambien es valida y la constante B tambien saldra de condiciones iniciales. Recordemos que la solucion final la armamos de la forma mas general posible, asi que estas dos estaran sumadas.  \n",
        "\n",
        "El otro autovalor es $\\omega_0^2+\\omega_a^2+\\omega_b^2$, también de multiplicidad 1 y de autovector $\\begin{pmatrix}-\\frac{\\omega_a^2}{\\omega_b^2}\\\\1\\end{pmatrix} = \\begin{pmatrix}-\\frac{m_b}{m_a}\\\\1\\end{pmatrix}$. Así que ahora $\\omega = \\omega_2 = \\sqrt{\\omega_0^2+\\omega_a^2+\\omega_b^2}$. \n",
        "\n",
        "De aca entonces tengo soluciones de la forma $\\vec{\\psi}(t) = C\\begin{pmatrix}-\\frac{m_b}{m_a}\\\\1\\end{pmatrix} \\cos\\left (\\sqrt{\\omega_0^2+\\omega_a^2+\\omega_b^2}~ t\\right )$ y $\\vec{\\psi}(t) = D\\begin{pmatrix}-\\frac{m_b}{m_a}\\\\1\\end{pmatrix} \\sin \\left ( \\sqrt{\\omega_0^2+\\omega_a^2+\\omega_b^2} ~t \\right )$. \n",
        "\n",
        "Asi que la solucion la escribimos como suma de todas las que encontramos: \n",
        "\n",
        "$$\\boxed{\\vec{\\psi}(t) = A\\begin{pmatrix}1\\\\1\\end{pmatrix} \\cos(\\omega_0 t) + B\\begin{pmatrix}1\\\\1\\end{pmatrix} \\sin(\\omega_0 t) + C\\begin{pmatrix}-\\frac{m_b}{m_a}\\\\1\\end{pmatrix} \\cos\\left (\\sqrt{\\omega_0^2+\\omega_a^2+\\omega_b^2}~ t\\right ) + D\\begin{pmatrix}-\\frac{m_b}{m_a}\\\\1\\end{pmatrix} \\sin \\left ( \\sqrt{\\omega_0^2+\\omega_a^2+\\omega_b^2} ~t \\right ) }$$\n",
        "Y las constantes que falta determinar salen de condiciones iniciales. \n",
        "<br />\n",
        "<br /><br />\n",
        "\n",
        "Un comentario: en la clase practica escribimos usamos $\\begin{pmatrix}1\\\\-\\frac{m_a}{m_b}\\end{pmatrix}$, que es un multiplo del autovalor: $\\begin{pmatrix}1\\\\-\\frac{m_a}{m_b}\\end{pmatrix} = -\\frac{m_a}{m_b}\\begin{pmatrix}-\\frac{m_b}{m_a}\\\\1\\end{pmatrix}$. Eso esta bien igual porque el termino $-\\frac{m_b}{m_a}$ se absorbe en las constantes $C$ y $D$. "
      ]
    },
    {
      "cell_type": "markdown",
      "id": "9a915108",
      "metadata": {
        "id": "9a915108"
      },
      "source": [
        "**Segundo método**\n",
        "\n",
        "En realidad, no haremos nada nuevo acá, mas que una reinterpretacion matematica de lo que hicimos. Tenemos el siguiente problema: \n",
        "\n",
        "\\begin{align}\n",
        "\\ddot{\\vec{\\psi}} = -\\boldsymbol{\\Omega}\\vec{\\psi} \n",
        "\\end{align}\n",
        "\n",
        "Podemos buscar una matriz $\\boldsymbol{C}$ que diagonalice a la matriz $\\boldsymbol{\\Omega}$, lo cual es algo que practicamente ya hicimos cuando encontramos los autovectores: esta matriz la armamos poniendo los autovectores en las columnas, así que \n",
        "\n",
        "$$ \\boldsymbol{C} = \\begin{pmatrix}\n",
        " 1& -\\frac{\\omega_a^2}{\\omega_b^2} \\\\\n",
        " 1&  1\\\\\n",
        "\\end{pmatrix}  = \\begin{pmatrix}\n",
        " 1& 1 \\\\\n",
        " 1&  -\\frac{m_a}{m_b}\\\\\n",
        "\\end{pmatrix}$$. \n",
        "\n",
        "De nuevo un comentario, en la practica pusimos la segunda columna multiplicada por $-\\frac{m_b}{m_a}$. Eso funciona tambien, porque cualquier multiplo de los autovectores como columna funciona. \n",
        "<br />\n",
        "Ahora sabemos que $$ \\boldsymbol{C}^{-1} \\boldsymbol{\\Omega} \\boldsymbol{C} = \\boldsymbol{D}$$ donde $\\boldsymbol{D}$ es una matriz diagonal que tiene a $\\omega_1^2$ y $\\omega_2^2$ en su diagonal. Claro que hay que encontrar $\\boldsymbol{C}^{-1}$, pero eso no es dificil, y de hecho para matrices de 2x2 hay una formula sencilla: \n",
        "<br />\n",
        "$$\\begin{pmatrix}\n",
        " a&b  \\\\\n",
        " c& d \\\\\n",
        "\\end{pmatrix}^{-1} = \\frac{1}{ad-bc}\\begin{pmatrix}\n",
        " d&-c  \\\\\n",
        " -b& a \\\\\n",
        "\\end{pmatrix}$$\n",
        "<br /><br /><br /><br />\n",
        "Ahora definamos una nueva variable: $\\vec{\\eta}= \\begin{pmatrix} \\eta_1  \\\\ \\eta_2 \\\\ \\end{pmatrix} = \\boldsymbol{C}^{-1}\\vec{\\psi}$. Vamos a demostrar que las ecuaciones de movimiento para esta nueva variable estan *desacopladas*. Es decir, podemos resolver para $\\eta_1$ y $\\eta_2$ como si fueran independientes entre si. Calculemos $\\ddot{\\vec{\\eta}}$:\n",
        "\n",
        "$$\\ddot{\\vec{\\eta}} = \\boldsymbol{C}^{-1}\\ddot{\\vec{\\psi}} = -\\boldsymbol{C}^{-1}\\boldsymbol{\\Omega}\\vec{\\psi} = -\\underbrace{\\boldsymbol{C}^{-1}\\boldsymbol{\\Omega}\\boldsymbol{C}}_{\\boldsymbol{D}}\\underbrace{\\boldsymbol{C}^{-1}\\vec{\\psi}}_{\\vec{\\eta}} = -\\boldsymbol{D}\\vec{\\eta} \\Longrightarrow \\boxed{\\ddot{\\vec{\\eta}} = -\\boldsymbol{D}\\vec{\\eta}}$$\n",
        "<br /><br /><br />\n",
        "\n",
        "Si aun no estamos convencidos que eso implica que las ecuaciones para $\\vec{eta}$ estan desacopladas, escribamoslo de esta forma: \n",
        "\n",
        "$$\\ddot{\\vec{\\eta}} = \\begin{pmatrix}\n",
        "\\ddot{\\eta}_1 \\\\ \\ddot{\\eta}_2\n",
        "\\end{pmatrix} = -\\boldsymbol{D} \\vec{\\eta} = -\\begin{pmatrix}\n",
        "\\omega_1^2 &  0\\\\\n",
        " 0&  \\omega_2^2\\\\\n",
        "\\end{pmatrix} \\begin{pmatrix}\n",
        "\\eta_1 \\\\ \\eta_2\n",
        "\\end{pmatrix} = \\begin{pmatrix}\n",
        "-\\omega_1^2\\eta_1 \\\\ -\\omega_2^2\\eta_2\n",
        "\\end{pmatrix}  \\Longrightarrow \\begin{cases}\n",
        " \\ddot{\\eta_1} = -\\omega_1^2 \\, \\eta_1 \\\\\n",
        " \\ddot{\\eta_2} = -\\omega_2^2 \\, \\eta_2  \n",
        "\\end{cases}$$\n",
        "\n",
        "Osea que tenemos que resolver 2 osciladores armónicos. Bien, sabemos como hacerlo. Para terminar, tenemos que volver a la variable original $\\vec{\\psi}$, pero eso es fácil ya que $ \\vec{\\psi} = \\boldsymbol{C} \\vec{\\eta}$. "
      ]
    },
    {
      "cell_type": "markdown",
      "id": "668851c0",
      "metadata": {
        "id": "668851c0"
      },
      "source": [
        "**Casos con disipación y forzado**\n",
        "\n",
        "Teniendo en cuenta lo que acabamos de hacer, podemos ahora agregar al problema disipación e incluso un forzado externo. A la ecuación de movimiento $\\ddot{\\vec{\\psi}} = -\\boldsymbol{\\Omega}\\vec{\\psi} $ podemos agregarle un termino disipativo $-\\gamma \\begin{pmatrix} \\dot{\\psi}_a \\\\ \\dot{\\psi}_b\\end{pmatrix}=-\\gamma \\dot{\\vec{\\psi}}$ y un forzado $\\begin{pmatrix}\\frac{F_a(t)}{m_a}  \\\\ \\frac{F_b(t)}{m_b}\\\\\\end{pmatrix}=\\vec{F}(t)$ para obtener $$ \\ddot{\\vec{\\psi}} = -\\boldsymbol{\\Omega}\\vec{\\psi}-\\gamma \\dot{\\vec{\\psi}}+\\vec{F}(t)$$\n",
        "\n",
        "Ahora hagamos igual que antes: definimos $\\vec{\\eta} = \\boldsymbol{C}^{-1}\\vec{\\psi}$ y calculamos $\\ddot{\\vec{\\eta}}$:\n",
        "\n",
        "$$\\ddot{\\vec{\\eta}} = \\boldsymbol{C}^{-1}\\ddot{\\vec{\\psi}} = -\\boldsymbol{C}^{-1}\\boldsymbol{\\Omega}\\vec{\\psi}-\\gamma \\boldsymbol{C}^{-1}\\dot{\\vec{\\psi}}+\\boldsymbol{C}^{-1}\\vec{F}(t) = -\\boldsymbol{D}\\boldsymbol{C}^{-1}\\vec{\\psi}-\\gamma \\boldsymbol{C}^{-1}\\dot{\\vec{\\psi}}+\\boldsymbol{C}^{-1}\\vec{F}(t) = -\\boldsymbol{D}\\vec{\\eta}-\\gamma \\dot{\\vec{\\eta}}+\\boldsymbol{C}^{-1}\\vec{F}(t) \\\\\n",
        "\\Longrightarrow \\ddot{\\vec{\\eta}} =-\\boldsymbol{D}\\vec{\\eta}-\\gamma \\dot{\\vec{\\eta}}+\\boldsymbol{C}^{-1}\\vec{F}(t)$$. \n",
        "\n",
        "Eso, de nuevo, es un sistema de ecuaciones desacopladas que sabemos resolver: $\\eta_1$ y $\\eta_2$ son osciladores forzados con disipación. "
      ]
    },
    {
      "cell_type": "code",
      "source": [
        ""
      ],
      "metadata": {
        "id": "8Qui-qJfFLOc"
      },
      "id": "8Qui-qJfFLOc",
      "execution_count": null,
      "outputs": []
    }
  ],
  "metadata": {
    "kernelspec": {
      "display_name": "Python 3 (ipykernel)",
      "language": "python",
      "name": "python3"
    },
    "language_info": {
      "codemirror_mode": {
        "name": "ipython",
        "version": 3
      },
      "file_extension": ".py",
      "mimetype": "text/x-python",
      "name": "python",
      "nbconvert_exporter": "python",
      "pygments_lexer": "ipython3",
      "version": "3.9.7"
    },
    "colab": {
      "name": "Repaso de Practica 2.ipynb",
      "provenance": [],
      "collapsed_sections": []
    }
  },
  "nbformat": 4,
  "nbformat_minor": 5
}