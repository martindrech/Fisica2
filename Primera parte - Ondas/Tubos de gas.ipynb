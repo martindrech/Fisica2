{
 "cells": [
  {
   "cell_type": "markdown",
   "metadata": {},
   "source": [
    "Formulas para ondas de sonido en un tubo:\n",
    "\n",
    "Las variables desplazamiento, presión y densidad (estas dos definidas respecto de los valores de equilibiro) satisfacen la ecuación de ondas: \n",
    "\n",
    "\\begin{align}\n",
    "\\frac{\\partial^2 \\psi}{\\partial t^2} =& ~c^2 \\frac{\\partial^2 \\psi}{\\partial x^2} \\\\ \n",
    "\\frac{\\partial^2 \\delta p}{\\partial t^2} =& ~c^2 \\frac{\\partial^2 \\delta p}{\\partial x^2} \\\\\n",
    "\\frac{\\partial^2 \\delta \\rho}{\\partial t^2} =& ~c^2 \\frac{\\partial^2 \\delta \\rho}{\\partial x^2} \n",
    "\\end{align}\n",
    "\n",
    "La presión y densidad resultan: $$P = P_0 + \\delta p \\\\ \\rho = \\rho_0 + \\delta \\rho$$ y la constante $c$ esta dada por $$c = \\sqrt{\\frac{\\gamma P_0}{\\rho_0}}$$, en donde estas constantes son todas datos del problema. En el caso del aire, se tiene $ P_0 = 1 $ atmósfera, $\\rho_0 = 1.2$ kg/$m^3$ y $\\gamma = 7/5$. \n",
    "\n",
    "Además, las tres variables están relacionadas por las siguientes formulas: \n",
    "\n",
    "\\begin{align}\n",
    "\\delta p &= -\\gamma P_0 \\frac{\\partial \\psi}{\\partial x} \\\\\n",
    "\\delta \\rho &= -\\rho_0 \\frac{\\partial \\psi}{\\partial x} \\\\\n",
    "\\delta p &= \\frac{\\gamma P_0}{\\rho_0} \\delta \\rho\n",
    "\\end{align}\n",
    "\n",
    "Las **condiciones de contorno** para la presión y el desplazamiento, son las siguientes: \n",
    "\n",
    "* En el caso de un extremo del tubo cerrado: el desplazamiento es nulo y la diferencia de presión tiene un máximo o un mínimo. Es decir que $\\psi(x_{\\text{ex}}, t) = 0$ y $\\frac{\\partial (\\delta p)}{\\partial x}(x_{\\text{ex}}, t) = 0$\n",
    "* En el caso de un extremo del tubo abierto: la diferencia de presión es nula, y el desplazamiento es máximo o mínimo. Es decir que $\\delta p(x_{\\text{ex}}, t) = 0$ y $\\frac{\\partial \\psi}{\\partial x}(x_{\\text{ex}}, t) = 0$"
   ]
  }
 ],
 "metadata": {
  "kernelspec": {
   "display_name": "Python 3",
   "language": "python",
   "name": "python3"
  },
  "language_info": {
   "codemirror_mode": {
    "name": "ipython",
    "version": 3
   },
   "file_extension": ".py",
   "mimetype": "text/x-python",
   "name": "python",
   "nbconvert_exporter": "python",
   "pygments_lexer": "ipython3",
   "version": "3.7.3"
  }
 },
 "nbformat": 4,
 "nbformat_minor": 4
}
