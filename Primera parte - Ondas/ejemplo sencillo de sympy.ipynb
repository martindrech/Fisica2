{
  "nbformat": 4,
  "nbformat_minor": 0,
  "metadata": {
    "colab": {
      "name": "Untitled4.ipynb",
      "provenance": []
    },
    "kernelspec": {
      "name": "python3",
      "display_name": "Python 3"
    },
    "language_info": {
      "name": "python"
    }
  },
  "cells": [
    {
      "cell_type": "code",
      "execution_count": 2,
      "metadata": {
        "id": "yx6aVuLYRZWL"
      },
      "outputs": [],
      "source": [
        "import sympy as sym\n",
        "sym.init_printing()"
      ]
    },
    {
      "cell_type": "code",
      "source": [
        "w0 = sym.symbols('\\omega_0')"
      ],
      "metadata": {
        "id": "D8dA7WYVRd0S"
      },
      "execution_count": 3,
      "outputs": []
    },
    {
      "cell_type": "code",
      "source": [
        "M = sym.Matrix([[-w0**2 , w0**2, 0], [w0**2, -2*w0**2,w0**2 ], [0, w0**2, -w0**2]])\n",
        "M"
      ],
      "metadata": {
        "colab": {
          "base_uri": "https://localhost:8080/",
          "height": 78
        },
        "id": "eypIfbWeRfT3",
        "outputId": "92760931-ff0e-406b-92f3-a158e68dc14a"
      },
      "execution_count": 5,
      "outputs": [
        {
          "output_type": "execute_result",
          "data": {
            "text/plain": [
              "⎡        2          2             ⎤\n",
              "⎢-\\omega₀    \\omega₀         0    ⎥\n",
              "⎢                                 ⎥\n",
              "⎢       2             2         2 ⎥\n",
              "⎢\\omega₀    -2⋅\\omega₀   \\omega₀  ⎥\n",
              "⎢                                 ⎥\n",
              "⎢                   2            2⎥\n",
              "⎣    0       \\omega₀     -\\omega₀ ⎦"
            ],
            "text/latex": "$\\displaystyle \\left[\\begin{matrix}- \\omega_{0}^{2} & \\omega_{0}^{2} & 0\\\\\\omega_{0}^{2} & - 2 \\omega_{0}^{2} & \\omega_{0}^{2}\\\\0 & \\omega_{0}^{2} & - \\omega_{0}^{2}\\end{matrix}\\right]$"
          },
          "metadata": {},
          "execution_count": 5
        }
      ]
    },
    {
      "cell_type": "code",
      "source": [
        "M.eigenvects()"
      ],
      "metadata": {
        "colab": {
          "base_uri": "https://localhost:8080/",
          "height": 78
        },
        "id": "VuQ_HrreSe7f",
        "outputId": "44410ce9-a2d6-4d8f-f994-242de4ce8735"
      },
      "execution_count": 6,
      "outputs": [
        {
          "output_type": "execute_result",
          "data": {
            "text/plain": [
              "⎡⎛      ⎡⎡1⎤⎤⎞  ⎛                ⎡⎡1 ⎤⎤⎞  ⎛              ⎡⎡-1⎤⎤⎞⎤\n",
              "⎢⎜      ⎢⎢ ⎥⎥⎟  ⎜          2     ⎢⎢  ⎥⎥⎟  ⎜        2     ⎢⎢  ⎥⎥⎟⎥\n",
              "⎢⎜0, 1, ⎢⎢1⎥⎥⎟, ⎜-3⋅\\omega₀ , 1, ⎢⎢-2⎥⎥⎟, ⎜-\\omega₀ , 1, ⎢⎢0 ⎥⎥⎟⎥\n",
              "⎢⎜      ⎢⎢ ⎥⎥⎟  ⎜                ⎢⎢  ⎥⎥⎟  ⎜              ⎢⎢  ⎥⎥⎟⎥\n",
              "⎣⎝      ⎣⎣1⎦⎦⎠  ⎝                ⎣⎣1 ⎦⎦⎠  ⎝              ⎣⎣1 ⎦⎦⎠⎦"
            ],
            "text/latex": "$\\displaystyle \\left[ \\left( 0, \\  1, \\  \\left[ \\left[\\begin{matrix}1\\\\1\\\\1\\end{matrix}\\right]\\right]\\right), \\  \\left( - 3 \\omega_{0}^{2}, \\  1, \\  \\left[ \\left[\\begin{matrix}1\\\\-2\\\\1\\end{matrix}\\right]\\right]\\right), \\  \\left( - \\omega_{0}^{2}, \\  1, \\  \\left[ \\left[\\begin{matrix}-1\\\\0\\\\1\\end{matrix}\\right]\\right]\\right)\\right]$"
          },
          "metadata": {},
          "execution_count": 6
        }
      ]
    },
    {
      "cell_type": "code",
      "source": [
        ""
      ],
      "metadata": {
        "id": "AkEMsPPJShCu"
      },
      "execution_count": null,
      "outputs": []
    }
  ]
}