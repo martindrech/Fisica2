{
 "cells": [
  {
   "cell_type": "code",
   "execution_count": null,
   "metadata": {},
   "outputs": [],
   "source": [
    "import numpy as np\n",
    "import matplotlib.pyplot as plt\n",
    "from matplotlib import animation\n",
    "from matplotlib import rc\n",
    "rc('animation', html='jshtml')"
   ]
  },
  {
   "cell_type": "code",
   "execution_count": null,
   "metadata": {},
   "outputs": [],
   "source": [
    "fig= plt.figure(1)\n",
    "ax = plt.gca()\n",
    "N = 500\n",
    "t = np.linspace(0, 2*np.pi, N)\n",
    "x = np.linspace(0, 1, 500)\n",
    "k = 3*np.pi\n",
    "w = k\n",
    "\n",
    "def psi(x, t):\n",
    "    return -np.sin(k*x) * np.sin(w*t)\n",
    "\n",
    "def psi_D(x, t):\n",
    "    return 0.5 * np.cos(k*x+w*t)\n",
    "\n",
    "def psi_I(x, t):\n",
    "    return -0.5 * np.cos(k*x-w*t)\n",
    "\n",
    "\n",
    "\n",
    "ax.plot(x, psi(x, t[0]))\n",
    "\n",
    "line, = ax.plot([], [],'ko')\n",
    "line1, = ax.plot([], [],'r')\n",
    "line2, = ax.plot([], [],'b')\n",
    "\n",
    "\n",
    "    \n",
    "ax.set_xlim(0, 1)\n",
    "ax.set_ylim(-1, 1)\n",
    "\n",
    "    \n",
    "def drawframe(i):\n",
    "    line.set_data(x, psi(x, t[i]))\n",
    "    line1.set_data(x, psi_D(x, t[i]))\n",
    "    line2.set_data(x, psi_I(x, t[i]))\n",
    "    \n",
    "    return [line,line1,line2] \n",
    "\n",
    "\n",
    "anim = animation.FuncAnimation(fig, drawframe, frames = N, interval = 10, blit = False)"
   ]
  },
  {
   "cell_type": "code",
   "execution_count": null,
   "metadata": {},
   "outputs": [],
   "source": [
    "anim"
   ]
  },
  {
   "cell_type": "code",
   "execution_count": null,
   "metadata": {},
   "outputs": [],
   "source": [
    "#%%\n",
    "fig= plt.figure(2)\n",
    "ax = plt.gca()\n",
    "N = 1000\n",
    "t = np.linspace(0, 2*np.pi, N)\n",
    "x = np.linspace(0, 1, 500)\n",
    "k = np.pi*5/2\n",
    "w = k\n",
    "\n",
    "def psi(x, t):\n",
    "    return np.sin(k*x) * np.cos(w*t)\n",
    "\n",
    "def psi_D(x, t):\n",
    "    return 0.5 * np.sin(k*x+w*t)\n",
    "\n",
    "def psi_I(x, t):\n",
    "    return 0.5 * np.sin(k*x-w*t)\n",
    "\n",
    "\n",
    "\n",
    "# ax.plot(x, psi(x, t[0]))\n",
    "\n",
    "line, = ax.plot([], [],'ko')\n",
    "line1, = ax.plot([], [],'r')\n",
    "line2, = ax.plot([], [],'b')\n",
    "\n",
    "\n",
    "    \n",
    "ax.set_xlim(0, 1)\n",
    "ax.set_ylim(-1, 1)\n",
    "\n",
    "    \n",
    "def drawframe(i):\n",
    "    line.set_data(x, psi(x, t[i]))\n",
    "    line1.set_data(x, psi_D(x, t[i]))\n",
    "    line2.set_data(x, psi_I(x, t[i]))\n",
    "    \n",
    "    return [line,line1,line2] \n",
    "\n",
    "\n",
    "paused = False\n",
    "anim = animation.FuncAnimation(fig, drawframe, frames = N, interval = 10, blit = False)\n",
    "\n",
    "def toggle_pause(*args, **kwargs):\n",
    "        global paused\n",
    "        if paused:\n",
    "            anim.resume()\n",
    "        else:\n",
    "            anim.pause()\n",
    "        paused = not paused\n",
    "        \n",
    "fig.canvas.mpl_connect('button_press_event', toggle_pause)\n"
   ]
  },
  {
   "cell_type": "code",
   "execution_count": null,
   "metadata": {},
   "outputs": [],
   "source": [
    "anim"
   ]
  },
  {
   "cell_type": "code",
   "execution_count": null,
   "metadata": {},
   "outputs": [],
   "source": []
  }
 ],
 "metadata": {
  "kernelspec": {
   "display_name": "Python 3",
   "language": "python",
   "name": "python3"
  },
  "language_info": {
   "codemirror_mode": {
    "name": "ipython",
    "version": 3
   },
   "file_extension": ".py",
   "mimetype": "text/x-python",
   "name": "python",
   "nbconvert_exporter": "python",
   "pygments_lexer": "ipython3",
   "version": "3.7.3"
  }
 },
 "nbformat": 4,
 "nbformat_minor": 4
}
