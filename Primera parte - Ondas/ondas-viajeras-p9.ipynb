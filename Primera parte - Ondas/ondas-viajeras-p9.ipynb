{
 "cells": [
  {
   "cell_type": "code",
   "execution_count": null,
   "metadata": {},
   "outputs": [],
   "source": [
    "import numpy as np\n",
    "import matplotlib.pyplot as plt\n",
    "from matplotlib import animation\n",
    "from matplotlib import rc\n",
    "rc('animation', html='jshtml')"
   ]
  },
  {
   "cell_type": "code",
   "execution_count": null,
   "metadata": {},
   "outputs": [],
   "source": [
    "def A(p, L, h, a):\n",
    "    return 2*(2*h*L**2*(-2*np.sin((p*np.pi)/2.) - (-1 + (-1)**p)*np.sin((a*p*np.pi)/L)))/((2*a - L)*p**2*np.pi**2)\n",
    "\n",
    "h = .2\n",
    "L = 1\n",
    "a = 0.4\n",
    "x = np.linspace(-2*L, 3*L, 1000)\n",
    "pmax = 500\n",
    "\n",
    "def psi(x, t):\n",
    "    psies = [A(p, L, h, a) * np.sin(p*np.pi/L*x)* np.cos(p*np.pi/L*t) for p in range(1, pmax)]\n",
    "    return np.sum(psies, 0)\n",
    "def psi_D(x, t):\n",
    "    psies = [0.5 * A(p, L, h, a) * np.sin(p*np.pi/L*(x-t)) for p in range(1, pmax)]\n",
    "    return np.sum(psies, 0)\n",
    "def psi_I(x, t):\n",
    "    psies = [0.5 * A(p, L, h, a) * np.sin(p*np.pi/L*(x+t)) for p in range(1, pmax)]\n",
    "    return np.sum(psies, 0)\n",
    "\n",
    "t = 0\n",
    "\n",
    "plt.figure(1)\n",
    "plt.clf()\n",
    "\n",
    "plt.plot(x, psi(x, t), linewidth = 3, c = 'k')\n",
    "# plt.plot(x, psi_D(x, t), linewidth = 3, c = 'r')\n",
    "# plt.plot(x, psi_I(x, t), linewidth = 3, c = 'b')\n",
    "\n",
    "plt.xlim(0, 1)\n",
    "\n",
    "plt.ylim(-.5, .5)\n",
    "\n",
    "plt.grid()"
   ]
  },
  {
   "cell_type": "code",
   "execution_count": null,
   "metadata": {},
   "outputs": [],
   "source": [
    "fig = plt.figure(2)\n",
    "ax = plt.gca()\n",
    "# ax.plot(x, psi(x, t[0]))\n",
    "\n",
    "\n",
    "line, = ax.plot([], [],'k')\n",
    "line1, = ax.plot([], [],'r')\n",
    "line2, = ax.plot([], [],'b')\n",
    "\n",
    "# ax.set_xlim(0, 1)\n",
    "ax.set_ylim(-1, 1)\n",
    "N = 100\n",
    "t = np.linspace(0, 2, N)\n",
    "ax.plot(x, psi(x, t[0]), '--')\n",
    "ax.set_xlim(0, 1)\n",
    "def drawframe(i):\n",
    "    line.set_data(x, psi(x, t[i]))\n",
    "    line1.set_data(x, psi_D(x, t[i]))\n",
    "    line2.set_data(x, psi_I(x, t[i]))\n",
    "    \n",
    "    return [line,line1,line2] \n",
    "\n",
    "anim = animation.FuncAnimation(fig, drawframe, frames = N, interval = 10, blit = False)"
   ]
  },
  {
   "cell_type": "code",
   "execution_count": null,
   "metadata": {},
   "outputs": [],
   "source": [
    "anim"
   ]
  },
  {
   "cell_type": "code",
   "execution_count": null,
   "metadata": {},
   "outputs": [],
   "source": [
    "fig, (ax1, ax2) = plt.subplots(2, 1, sharex = True, sharey = True, figsize = (12, 8))\n",
    "# ax.plot(x, psi(x, t[0]))\n",
    "\n",
    "\n",
    "line, = ax1.plot([], [],'k')\n",
    "line1, = ax2.plot([], [],'r')\n",
    "line2, = ax2.plot([], [],'b')\n",
    "\n",
    "ax.set_xlim(-2, 3)\n",
    "ax1.set_ylim(-.3, .3)\n",
    "\n",
    "N = 100\n",
    "t = np.linspace(0, 2, N)\n",
    "\n",
    "ax1.plot(x, psi(x, t[0]), '--')\n",
    "ax2.plot(x, psi(x, t[0]), '--')\n",
    "\n",
    "ax1.set_title('Solucion completa')\n",
    "ax2.set_title('Solciones viajantes')\n",
    "\n",
    "ax1.vlines(1, -1, 1, linestyle = 'dashed', color = 'k')\n",
    "ax1.vlines(0, -1, 1, linestyle = 'dashed', color = 'k')\n",
    "ax2.vlines(1, -1, 1, linestyle = 'dashed', color = 'k')\n",
    "ax2.vlines(0, -1, 1, linestyle = 'dashed', color = 'k')\n",
    "\n",
    "def drawframe(i):\n",
    "    line.set_data(x, psi(x, t[i]))\n",
    "    line1.set_data(x, psi_D(x, t[i]))\n",
    "    line2.set_data(x, psi_I(x, t[i]))\n",
    "    \n",
    "    return [line,line1,line2] \n",
    "\n",
    "\n",
    "anim = animation.FuncAnimation(fig, drawframe, frames = N, interval = 10, blit = False)"
   ]
  },
  {
   "cell_type": "code",
   "execution_count": null,
   "metadata": {},
   "outputs": [],
   "source": [
    "anim"
   ]
  },
  {
   "cell_type": "code",
   "execution_count": null,
   "metadata": {},
   "outputs": [],
   "source": []
  }
 ],
 "metadata": {
  "kernelspec": {
   "display_name": "Python 3",
   "language": "python",
   "name": "python3"
  },
  "language_info": {
   "codemirror_mode": {
    "name": "ipython",
    "version": 3
   },
   "file_extension": ".py",
   "mimetype": "text/x-python",
   "name": "python",
   "nbconvert_exporter": "python",
   "pygments_lexer": "ipython3",
   "version": "3.7.3"
  }
 },
 "nbformat": 4,
 "nbformat_minor": 4
}
